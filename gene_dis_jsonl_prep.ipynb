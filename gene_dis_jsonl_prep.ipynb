{
  "nbformat": 4,
  "nbformat_minor": 0,
  "metadata": {
    "colab": {
      "provenance": []
    },
    "kernelspec": {
      "name": "python3",
      "display_name": "Python 3"
    },
    "language_info": {
      "name": "python"
    }
  },
  "cells": [
    {
      "cell_type": "code",
      "execution_count": null,
      "metadata": {
        "id": "TRdd2V_u4Go3"
      },
      "outputs": [],
      "source": [
        "import json\n",
        "import pandas as pd\n",
        "# Gene to Diseases format ---\n",
        "\n",
        "df_filtered = pd.read_csv(\"/content/gen-des.csv\")\n",
        "gene_to_diseases = {}\n",
        "for _, row in df_filtered.iterrows():\n",
        "    gene = row[\"Genes\"]\n",
        "    disease = row[\"Disease\"]\n",
        "    desc = row[\"Disease_desc\"]\n",
        "\n",
        "    entry = f\"- {disease}: {desc.strip()}\"\n",
        "    gene_to_diseases.setdefault(gene, []).append(entry)\n",
        "\n",
        "gene_jsonl = [\n",
        "    {\n",
        "        \"instruction\": f\"What diseases are associated with the gene {gene}?\",\n",
        "        \"response\": \"\\n\".join(disease_list)\n",
        "    }\n",
        "    for gene, disease_list in gene_to_diseases.items()\n",
        "]\n",
        "\n",
        "# Disease to Genes format\n",
        "# only unique genes for each disease\n",
        "disease_to_genes = {}\n",
        "for _, row in df_filtered.iterrows():\n",
        "    disease = row[\"Disease\"]\n",
        "    gene = row[\"Genes\"]\n",
        "\n",
        "    disease_to_genes.setdefault(disease, set()).add(gene)\n",
        "\n",
        "disease_jsonl = [\n",
        "    {\n",
        "        \"instruction\": f\"Which genes are associated with {disease}?\",\n",
        "        \"response\": \", \".join(sorted(genes))\n",
        "    }\n",
        "    for disease, genes in disease_to_genes.items()\n",
        "]\n",
        "\n",
        "# Save to .jsonl files\n",
        "gene_jsonl_path = \"/conten/gene_to_disease.jsonl\"\n",
        "disease_jsonl_path = \"content/disease_to_gene.jsonl\"\n",
        "\n",
        "with open(gene_jsonl_path, \"w\") as f:\n",
        "    for item in gene_jsonl:\n",
        "        f.write(json.dumps(item) + \"\\n\")\n",
        "\n",
        "with open(disease_jsonl_path, \"w\") as f:\n",
        "    for item in disease_jsonl:\n",
        "        f.write(json.dumps(item) + \"\\n\")\n",
        "\n",
        "gene_jsonl_path, disease_jsonl_path\n"
      ]
    }
  ]
}